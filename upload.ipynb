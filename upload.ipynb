{
 "cells": [
  {
   "cell_type": "code",
   "execution_count": 1,
   "id": "7bf155c5",
   "metadata": {},
   "outputs": [
    {
     "name": "stdout",
     "output_type": "stream",
     "text": [
      "Data inserted into Redis successfully.\n",
      "Data for Patient ID 1: {'PatientID': 1, 'Name': 'John Doe', 'Age': 45, 'Gender': 'M', 'DiagnosisCode': 'M54.5', 'VisitDate': '2024-09-10', 'Hospital': 'Stony Brook Hospital', 'TreatmentPlan': 'Physical Therapy', 'FollowUpDate': '2024-09-20'}\n"
     ]
    }
   ],
   "source": [
    "import pandas as pd, import redis, import json, import configparser\n",
    "\n",
    "config = configparser.ConfigParser()\n",
    "config.read('config.redis')\n",
    "\n",
    "redis_host = config['REDIS']['host']\n",
    "redis_port = int(config['REDIS']['port'])\n",
    "redis_password = config['REDIS']['password']\n",
    "\n",
    "r = redis.Redis(\n",
    "    host=redis_host,\n",
    "    port=redis_port,\n",
    "    password=redis_password,\n",
    "    decode_responses=True\n",
    ")\n",
    "\n",
    "url = \"https://raw.githubusercontent.com/hantswilliams/HHA-504-2024/refs/heads/main/other/module8/module8_nosql_hw.csv\"\n",
    "df = pd.read_csv(url)\n",
    "\n",
    "for _, row in df.iterrows():\n",
    "    patient_data = row.to_dict()\n",
    "    r.set(patient_data['PatientID'], json.dumps(patient_data))\n",
    "\n",
    "print(\"Data inserted into Redis successfully.\")\n",
    "\n",
    "patient_info = r.get(patient_id)\n",
    "if patient_info:\n",
    "    patient_data = json.loads(patient_info)\n",
    "    print(f\"Data for Patient ID {patient_id}: {patient_data}\")\n",
    "else:\n",
    "    print(f\"No data found for Patient ID {patient_id}.\")"
   ]
  },
  {
   "cell_type": "code",
   "execution_count": null,
   "id": "edc94c1e",
   "metadata": {},
   "outputs": [],
   "source": []
  }
 ],
 "metadata": {
  "kernelspec": {
   "display_name": "Python 3 (ipykernel)",
   "language": "python",
   "name": "python3"
  },
  "language_info": {
   "codemirror_mode": {
    "name": "ipython",
    "version": 3
   },
   "file_extension": ".py",
   "mimetype": "text/x-python",
   "name": "python",
   "nbconvert_exporter": "python",
   "pygments_lexer": "ipython3",
   "version": "3.11.5"
  }
 },
 "nbformat": 4,
 "nbformat_minor": 5
}
